{
 "cells": [
  {
   "cell_type": "markdown",
   "id": "81e35ec8-0ec2-4845-8584-3d09a67f7a14",
   "metadata": {},
   "source": [
    "# JDBC/SQL Catalog\n",
    "Now we are setting up and testing the JDBC/SQL Catalog."
   ]
  },
  {
   "cell_type": "markdown",
   "id": "d52b4fc3-fbaa-49e4-8694-3bdaf7301101",
   "metadata": {},
   "source": [
    "## Importing Required Libraries\n",
    "We will be importing `SparkSession` and `os`, which is used to read environment variable for the Minio access key and secret.\n",
    "\n",
    "We also set some styling to display tables better."
   ]
  },
  {
   "cell_type": "code",
   "execution_count": 1,
   "id": "cd659063-16d9-48a3-a217-07d95142fe08",
   "metadata": {},
   "outputs": [
    {
     "data": {
      "text/html": [
       "<style>pre { white-space: pre !important; }</style>"
      ],
      "text/plain": [
       "<IPython.core.display.HTML object>"
      ]
     },
     "metadata": {},
     "output_type": "display_data"
    }
   ],
   "source": [
    "from pyspark.sql import SparkSession\n",
    "import os\n",
    "\n",
    "# this is to better display pyspark dataframes\n",
    "from IPython.core.display import HTML\n",
    "display(HTML(\"<style>pre { white-space: pre !important; }</style>\"))"
   ]
  },
  {
   "cell_type": "code",
   "execution_count": null,
   "id": "4a76f00c-9290-4789-93bd-f2c65fb648aa",
   "metadata": {},
   "outputs": [],
   "source": []
  },
  {
   "cell_type": "markdown",
   "id": "6a0d0160-5a87-4caa-bd41-304967249726",
   "metadata": {},
   "source": [
    "## Setting up Spark Session\n",
    "Details docs of the spark configs to use with the Nessie catalog can be found [here](https://iceberg.apache.org/docs/1.5.0/jdbc/#configurations).\n",
    "We will setting up `iceberg` as the catalog name."
   ]
  },
  {
   "cell_type": "code",
   "execution_count": 2,
   "id": "3cc8f0a6-3666-40d8-a744-48c855ec2c6d",
   "metadata": {},
   "outputs": [
    {
     "name": "stderr",
     "output_type": "stream",
     "text": [
      "24/09/02 15:33:56 WARN NativeCodeLoader: Unable to load native-hadoop library for your platform... using builtin-java classes where applicable\n",
      "Setting default log level to \"WARN\".\n",
      "To adjust logging level use sc.setLogLevel(newLevel). For SparkR, use setLogLevel(newLevel).\n"
     ]
    }
   ],
   "source": [
    "iceberg_catalog_name = \"iceberg\"\n",
    "spark = SparkSession.builder \\\n",
    "  .appName(\"iceberg-jdbc\") \\\n",
    "  .config(\"spark.driver.memory\", \"4g\") \\\n",
    "  .config(\"spark.executor.memory\", \"4g\") \\\n",
    "  .config(\"spark.sql.extensions\", \"org.apache.iceberg.spark.extensions.IcebergSparkSessionExtensions\") \\\n",
    "  .config(\"spark.jars\", \"/opt/extra-jars/iceberg-spark-runtime.jar,/opt/extra-jars/iceberg-aws-bundle.jar,/opt/extra-jars/postgresql.jar\") \\\n",
    "  .config(f\"spark.sql.catalog.{iceberg_catalog_name}\", \"org.apache.iceberg.spark.SparkCatalog\") \\\n",
    "  .config(f\"spark.sql.catalog.{iceberg_catalog_name}.type\", \"jdbc\") \\\n",
    "  .config(f\"spark.sql.catalog.{iceberg_catalog_name}.uri\", \"jdbc:postgresql://postgres:5432/iceberg\") \\\n",
    "  .config(f\"spark.sql.catalog.{iceberg_catalog_name}.jdbc.user\", \"postgres\") \\\n",
    "  .config(f\"spark.sql.catalog.{iceberg_catalog_name}.jdbc.password\", \"postgres\") \\\n",
    "  .config(f\"spark.sql.catalog.{iceberg_catalog_name}.io-impl\", \"org.apache.iceberg.aws.s3.S3FileIO\") \\\n",
    "  .config(f\"spark.sql.catalog.{iceberg_catalog_name}.warehouse\", \"s3://warehouse/iceberg-jdbc/\") \\\n",
    "  .config(f\"spark.sql.catalog.{iceberg_catalog_name}.s3.endpoint\", \"http://minio:9000\") \\\n",
    "  .config(f\"spark.sql.catalog.{iceberg_catalog_name}.s3.path-style-access\", \"true\") \\\n",
    "  .getOrCreate()"
   ]
  },
  {
   "cell_type": "markdown",
   "id": "b4dd6895-1566-4f86-bfea-97be24429485",
   "metadata": {},
   "source": [
    "## Load Test Data"
   ]
  },
  {
   "cell_type": "code",
   "execution_count": 3,
   "id": "16c99538-29f3-4115-ad6d-f0618188bc64",
   "metadata": {},
   "outputs": [
    {
     "name": "stderr",
     "output_type": "stream",
     "text": [
      "24/09/02 15:34:08 WARN GarbageCollectionMetrics: To enable non-built-in garbage collector(s) List(G1 Concurrent GC), users should configure it(them) to spark.eventLog.gcMetrics.youngGenerationGarbageCollectors or spark.eventLog.gcMetrics.oldGenerationGarbageCollectors\n"
     ]
    }
   ],
   "source": [
    "df = spark.read.parquet(\"file:///home/iceberg/workspace/downloaded-data/yellow_tripdata_2024-01.parquet\")"
   ]
  },
  {
   "cell_type": "markdown",
   "id": "2a48b2ac-769c-4170-b032-480ad35f3bb7",
   "metadata": {},
   "source": [
    "## Creating namespace under the catalog\n",
    "Now we created the namespace`jdbc`, with the location `s3://warehouse/iceberg-jdbc/` in Minio"
   ]
  },
  {
   "cell_type": "code",
   "execution_count": 4,
   "id": "42629e00-75d1-4d33-ac35-8cc6952071a4",
   "metadata": {},
   "outputs": [
    {
     "name": "stderr",
     "output_type": "stream",
     "text": [
      "24/09/02 15:34:46 WARN JdbcCatalog: JDBC catalog is initialized without view support. To auto-migrate the database's schema and enable view support, set jdbc.schema-version=V1\n"
     ]
    },
    {
     "data": {
      "text/plain": [
       "DataFrame[]"
      ]
     },
     "execution_count": 4,
     "metadata": {},
     "output_type": "execute_result"
    }
   ],
   "source": [
    "spark.sql(\"CREATE NAMESPACE IF NOT EXISTS iceberg.jdbc LOCATION 's3://warehouse/iceberg-jdbc/'\")"
   ]
  },
  {
   "cell_type": "markdown",
   "id": "8e71ef43-24b8-4c99-991f-8e4a880ecb76",
   "metadata": {},
   "source": [
    "## Writing the data to Iceberg Table\n",
    "Finally, writing the data to the Iceberg table."
   ]
  },
  {
   "cell_type": "code",
   "execution_count": 5,
   "id": "d63d5f0a-4979-43b2-88e3-bcbedbdae3d2",
   "metadata": {},
   "outputs": [
    {
     "name": "stderr",
     "output_type": "stream",
     "text": [
      "                                                                                \r"
     ]
    }
   ],
   "source": [
    "df.writeTo(\"iceberg.jdbc.yellow_tripdata_2024_01\").create()"
   ]
  },
  {
   "cell_type": "markdown",
   "id": "f6029c6a-ff2b-4b5e-9e52-e1f3d3d784ce",
   "metadata": {},
   "source": [
    "We then check the data saved to Minio. "
   ]
  },
  {
   "cell_type": "code",
   "execution_count": 6,
   "id": "c835d490-711f-43cf-a53a-7b638c450d90",
   "metadata": {},
   "outputs": [
    {
     "name": "stdout",
     "output_type": "stream",
     "text": [
      "\u001b]11;?\u001b\\\u001b[6n\u001b[m\u001b[32m[2024-09-02 15:35:07 UTC]\u001b[0m\u001b[33m  16MiB\u001b[0m \u001b[34mSTANDARD\u001b[0m\u001b[1m jdbc/yellow_tripdata_2024_01/data/00001-2-3060fcc0-acb0-45c8-b138-9623213545b9-0-00001.parquet\u001b[22m\u001b[m\n",
      "\u001b[m\u001b[32m[2024-09-02 15:35:08 UTC]\u001b[0m\u001b[33m  16MiB\u001b[0m \u001b[34mSTANDARD\u001b[0m\u001b[1m jdbc/yellow_tripdata_2024_01/data/00003-4-3060fcc0-acb0-45c8-b138-9623213545b9-0-00001.parquet\u001b[22m\u001b[m\n",
      "\u001b[m\u001b[32m[2024-09-02 15:35:06 UTC]\u001b[0m\u001b[33m  13MiB\u001b[0m \u001b[34mSTANDARD\u001b[0m\u001b[1m jdbc/yellow_tripdata_2024_01/data/00006-7-3060fcc0-acb0-45c8-b138-9623213545b9-0-00001.parquet\u001b[22m\u001b[m\n",
      "\u001b[m\u001b[32m[2024-09-02 15:35:09 UTC]\u001b[0m\u001b[33m 3.7KiB\u001b[0m \u001b[34mSTANDARD\u001b[0m\u001b[1m jdbc/yellow_tripdata_2024_01/metadata/00000-abf02028-2e56-46b1-9630-f76593fdb133.metadata.json\u001b[22m\u001b[m\n",
      "\u001b[m\u001b[32m[2024-09-02 15:35:08 UTC]\u001b[0m\u001b[33m 8.4KiB\u001b[0m \u001b[34mSTANDARD\u001b[0m\u001b[1m jdbc/yellow_tripdata_2024_01/metadata/35c15e93-be9a-4960-9e81-171ea6613ab1-m0.avro\u001b[22m\u001b[m\n",
      "\u001b[m\u001b[32m[2024-09-02 15:35:08 UTC]\u001b[0m\u001b[33m 4.2KiB\u001b[0m \u001b[34mSTANDARD\u001b[0m\u001b[1m jdbc/yellow_tripdata_2024_01/metadata/snap-6219311444062926134-1-35c15e93-be9a-4960-9e81-171ea6613ab1.avro\u001b[22m\u001b[m\n"
     ]
    }
   ],
   "source": [
    "!mc ls --recursive minio/warehouse/iceberg-jdbc"
   ]
  }
 ],
 "metadata": {
  "kernelspec": {
   "display_name": "Python 3 (ipykernel)",
   "language": "python",
   "name": "python3"
  },
  "language_info": {
   "codemirror_mode": {
    "name": "ipython",
    "version": 3
   },
   "file_extension": ".py",
   "mimetype": "text/x-python",
   "name": "python",
   "nbconvert_exporter": "python",
   "pygments_lexer": "ipython3",
   "version": "3.9.18"
  }
 },
 "nbformat": 4,
 "nbformat_minor": 5
}
